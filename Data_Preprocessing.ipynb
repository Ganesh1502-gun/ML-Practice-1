{
 "cells": [
  {
   "cell_type": "code",
   "execution_count": 11,
   "id": "f4c211a0-4536-4f81-8989-1ef1d32514d2",
   "metadata": {},
   "outputs": [],
   "source": [
    "import numpy as np\n",
    "import pandas as pd"
   ]
  },
  {
   "cell_type": "code",
   "execution_count": 17,
   "id": "9c0563d2-8bf1-4557-96b2-f10a8e91bb1c",
   "metadata": {},
   "outputs": [],
   "source": [
    "dataset=pd.read_csv('Data.csv')\n"
   ]
  },
  {
   "cell_type": "code",
   "execution_count": 19,
   "id": "8dd42100-15e8-4708-b8c3-213a675c2be7",
   "metadata": {},
   "outputs": [
    {
     "data": {
      "text/html": [
       "<div>\n",
       "<style scoped>\n",
       "    .dataframe tbody tr th:only-of-type {\n",
       "        vertical-align: middle;\n",
       "    }\n",
       "\n",
       "    .dataframe tbody tr th {\n",
       "        vertical-align: top;\n",
       "    }\n",
       "\n",
       "    .dataframe thead th {\n",
       "        text-align: right;\n",
       "    }\n",
       "</style>\n",
       "<table border=\"1\" class=\"dataframe\">\n",
       "  <thead>\n",
       "    <tr style=\"text-align: right;\">\n",
       "      <th></th>\n",
       "      <th>Id</th>\n",
       "      <th>Country</th>\n",
       "      <th>Age</th>\n",
       "      <th>Salary</th>\n",
       "      <th>Purchased</th>\n",
       "    </tr>\n",
       "  </thead>\n",
       "  <tbody>\n",
       "    <tr>\n",
       "      <th>0</th>\n",
       "      <td>1</td>\n",
       "      <td>Germany</td>\n",
       "      <td>44.0</td>\n",
       "      <td>72000.0</td>\n",
       "      <td>Yes</td>\n",
       "    </tr>\n",
       "    <tr>\n",
       "      <th>1</th>\n",
       "      <td>2</td>\n",
       "      <td>SPAIN</td>\n",
       "      <td>76.0</td>\n",
       "      <td>45000.0</td>\n",
       "      <td>no</td>\n",
       "    </tr>\n",
       "    <tr>\n",
       "      <th>2</th>\n",
       "      <td>3</td>\n",
       "      <td>France</td>\n",
       "      <td>34.0</td>\n",
       "      <td>56000.0</td>\n",
       "      <td>yes</td>\n",
       "    </tr>\n",
       "    <tr>\n",
       "      <th>3</th>\n",
       "      <td>4</td>\n",
       "      <td>Germany</td>\n",
       "      <td>45.0</td>\n",
       "      <td>66700.0</td>\n",
       "      <td>no</td>\n",
       "    </tr>\n",
       "    <tr>\n",
       "      <th>4</th>\n",
       "      <td>5</td>\n",
       "      <td>SPAIN</td>\n",
       "      <td>43.0</td>\n",
       "      <td>54000.0</td>\n",
       "      <td>yes</td>\n",
       "    </tr>\n",
       "    <tr>\n",
       "      <th>5</th>\n",
       "      <td>6</td>\n",
       "      <td>France</td>\n",
       "      <td>23.0</td>\n",
       "      <td>78000.0</td>\n",
       "      <td>no</td>\n",
       "    </tr>\n",
       "    <tr>\n",
       "      <th>6</th>\n",
       "      <td>7</td>\n",
       "      <td>Germany</td>\n",
       "      <td>45.0</td>\n",
       "      <td>87000.0</td>\n",
       "      <td>yes</td>\n",
       "    </tr>\n",
       "    <tr>\n",
       "      <th>7</th>\n",
       "      <td>8</td>\n",
       "      <td>SPAIN</td>\n",
       "      <td>65.0</td>\n",
       "      <td>NaN</td>\n",
       "      <td>no</td>\n",
       "    </tr>\n",
       "    <tr>\n",
       "      <th>8</th>\n",
       "      <td>9</td>\n",
       "      <td>France</td>\n",
       "      <td>NaN</td>\n",
       "      <td>45000.0</td>\n",
       "      <td>yes</td>\n",
       "    </tr>\n",
       "  </tbody>\n",
       "</table>\n",
       "</div>"
      ],
      "text/plain": [
       "   Id  Country   Age   Salary Purchased\n",
       "0   1  Germany  44.0  72000.0       Yes\n",
       "1   2    SPAIN  76.0  45000.0        no\n",
       "2   3   France  34.0  56000.0       yes\n",
       "3   4  Germany  45.0  66700.0        no\n",
       "4   5    SPAIN  43.0  54000.0       yes\n",
       "5   6   France  23.0  78000.0        no\n",
       "6   7  Germany  45.0  87000.0       yes\n",
       "7   8    SPAIN  65.0      NaN        no\n",
       "8   9   France   NaN  45000.0       yes"
      ]
     },
     "execution_count": 19,
     "metadata": {},
     "output_type": "execute_result"
    }
   ],
   "source": [
    "dataset"
   ]
  },
  {
   "cell_type": "code",
   "execution_count": 25,
   "id": "f30a24a6-c4bf-47ca-805d-b56beeecd59b",
   "metadata": {},
   "outputs": [],
   "source": [
    "x=dataset[['Country','Age','Salary']].values"
   ]
  },
  {
   "cell_type": "code",
   "execution_count": 27,
   "id": "bc1b8474-5490-4657-a42e-94ab0ac8a85a",
   "metadata": {},
   "outputs": [
    {
     "data": {
      "text/plain": [
       "array([['Germany', 44.0, 72000.0],\n",
       "       ['SPAIN', 76.0, 45000.0],\n",
       "       ['France', 34.0, 56000.0],\n",
       "       ['Germany', 45.0, 66700.0],\n",
       "       ['SPAIN', 43.0, 54000.0],\n",
       "       ['France', 23.0, 78000.0],\n",
       "       ['Germany', 45.0, 87000.0],\n",
       "       ['SPAIN', 65.0, nan],\n",
       "       ['France', nan, 45000.0]], dtype=object)"
      ]
     },
     "execution_count": 27,
     "metadata": {},
     "output_type": "execute_result"
    }
   ],
   "source": [
    "x"
   ]
  },
  {
   "cell_type": "code",
   "execution_count": 33,
   "id": "aa8ee233-d8a9-4889-855b-1bc5c2ff8268",
   "metadata": {},
   "outputs": [],
   "source": [
    "y=dataset[['Purchased']].values"
   ]
  },
  {
   "cell_type": "code",
   "execution_count": 35,
   "id": "dc052fd3-5f1b-40b9-bdbd-787f4ab3b7fd",
   "metadata": {},
   "outputs": [
    {
     "data": {
      "text/plain": [
       "array([['Yes'],\n",
       "       ['no'],\n",
       "       ['yes'],\n",
       "       ['no'],\n",
       "       ['yes'],\n",
       "       ['no'],\n",
       "       ['yes'],\n",
       "       ['no'],\n",
       "       ['yes']], dtype=object)"
      ]
     },
     "execution_count": 35,
     "metadata": {},
     "output_type": "execute_result"
    }
   ],
   "source": [
    "y"
   ]
  },
  {
   "cell_type": "code",
   "execution_count": 67,
   "id": "bb6a3f27-717f-4e45-adfd-8229dada3a9a",
   "metadata": {},
   "outputs": [],
   "source": [
    "from sklearn.impute import SimpleImputer"
   ]
  },
  {
   "cell_type": "code",
   "execution_count": 69,
   "id": "6fb1dece-5fca-43a8-b450-360b85064501",
   "metadata": {},
   "outputs": [],
   "source": [
    "imputer=SimpleImputer(missing_values =np.nan,strategy='mean')"
   ]
  },
  {
   "cell_type": "code",
   "execution_count": 71,
   "id": "41f8a80e-11fe-4ea3-9479-1055b0208d4e",
   "metadata": {},
   "outputs": [],
   "source": [
    "imputer=imputer.fit(x[:,1:4])"
   ]
  },
  {
   "cell_type": "code",
   "execution_count": 73,
   "id": "522669af-8d18-4d45-82c2-2af3b6b830fe",
   "metadata": {},
   "outputs": [],
   "source": [
    "x[:,1:4]=imputer.transform(x[:,1:4])"
   ]
  },
  {
   "cell_type": "code",
   "execution_count": 65,
   "id": "197b501f-82a7-4633-9064-36d44a31a71b",
   "metadata": {},
   "outputs": [
    {
     "data": {
      "text/plain": [
       "array([['Germany', 44.0, 72000.0],\n",
       "       ['SPAIN', 76.0, 45000.0],\n",
       "       ['France', 34.0, 56000.0],\n",
       "       ['Germany', 45.0, 66700.0],\n",
       "       ['SPAIN', 43.0, 54000.0],\n",
       "       ['France', 23.0, 78000.0],\n",
       "       ['Germany', 45.0, 87000.0],\n",
       "       ['SPAIN', 65.0, 62962.5],\n",
       "       ['France', nan, 45000.0]], dtype=object)"
      ]
     },
     "execution_count": 65,
     "metadata": {},
     "output_type": "execute_result"
    }
   ],
   "source": [
    "x"
   ]
  },
  {
   "cell_type": "code",
   "execution_count": 75,
   "id": "28d6f347-73db-4967-a0b9-cad65caf12b4",
   "metadata": {},
   "outputs": [],
   "source": [
    "from sklearn.preprocessing import LabelEncoder"
   ]
  },
  {
   "cell_type": "code",
   "execution_count": 83,
   "id": "87a63c2e-d8b2-475b-ac97-3e2048a5b5d1",
   "metadata": {},
   "outputs": [],
   "source": [
    "label_encoder_x=LabelEncoder()"
   ]
  },
  {
   "cell_type": "code",
   "execution_count": 89,
   "id": "19d9df7c-cbec-46cc-8e88-6fc37a13a58e",
   "metadata": {},
   "outputs": [],
   "source": [
    "x[:,0]=label_encoder_x.fit_transform(x[:,0])"
   ]
  },
  {
   "cell_type": "code",
   "execution_count": 91,
   "id": "4b0d73cf-7bc7-4335-aff4-871e82d73571",
   "metadata": {},
   "outputs": [
    {
     "data": {
      "text/plain": [
       "array([[1, 3, 72000.0],\n",
       "       [2, 7, 45000.0],\n",
       "       [0, 1, 56000.0],\n",
       "       [1, 4, 66700.0],\n",
       "       [2, 2, 54000.0],\n",
       "       [0, 0, 78000.0],\n",
       "       [1, 4, 87000.0],\n",
       "       [2, 6, 62962.5],\n",
       "       [0, 5, 45000.0]], dtype=object)"
      ]
     },
     "execution_count": 91,
     "metadata": {},
     "output_type": "execute_result"
    }
   ],
   "source": [
    "x"
   ]
  },
  {
   "cell_type": "code",
   "execution_count": 93,
   "id": "4ec5d719-7be0-4979-8810-8e21a3c03c33",
   "metadata": {},
   "outputs": [],
   "source": [
    "from sklearn.preprocessing import OneHotEncoder"
   ]
  },
  {
   "cell_type": "code",
   "execution_count": 101,
   "id": "fd96e75b-46ca-4952-bc9d-2a6d1cf1f433",
   "metadata": {},
   "outputs": [],
   "source": [
    "onehotencoder=OneHotEncoder()"
   ]
  },
  {
   "cell_type": "code",
   "execution_count": 105,
   "id": "73f587a3-c50a-4349-8656-204bfe5a248e",
   "metadata": {},
   "outputs": [],
   "source": [
    "x=onehotencoder.fit_transform(dataset.Country.values.reshape(-1,1)).toarray()"
   ]
  },
  {
   "cell_type": "code",
   "execution_count": 107,
   "id": "3add39be-8fb2-46cc-8ed6-823f54a631bf",
   "metadata": {},
   "outputs": [
    {
     "data": {
      "text/plain": [
       "array([[0., 1., 0.],\n",
       "       [0., 0., 1.],\n",
       "       [1., 0., 0.],\n",
       "       [0., 1., 0.],\n",
       "       [0., 0., 1.],\n",
       "       [1., 0., 0.],\n",
       "       [0., 1., 0.],\n",
       "       [0., 0., 1.],\n",
       "       [1., 0., 0.]])"
      ]
     },
     "execution_count": 107,
     "metadata": {},
     "output_type": "execute_result"
    }
   ],
   "source": [
    "x"
   ]
  },
  {
   "cell_type": "code",
   "execution_count": 109,
   "id": "21790f0f-cac2-4f76-873c-2160a1b18213",
   "metadata": {},
   "outputs": [],
   "source": [
    "labelencoder_y=LabelEncoder()"
   ]
  },
  {
   "cell_type": "code",
   "execution_count": 111,
   "id": "c4b2f170-c7c5-4374-a59e-3ac8c6f7d396",
   "metadata": {},
   "outputs": [
    {
     "name": "stderr",
     "output_type": "stream",
     "text": [
      "C:\\Users\\GaneshChavan\\anaconda3\\Lib\\site-packages\\sklearn\\preprocessing\\_label.py:114: DataConversionWarning: A column-vector y was passed when a 1d array was expected. Please change the shape of y to (n_samples, ), for example using ravel().\n",
      "  y = column_or_1d(y, warn=True)\n"
     ]
    }
   ],
   "source": [
    "y=labelencoder_y.fit_transform(y)"
   ]
  },
  {
   "cell_type": "code",
   "execution_count": 113,
   "id": "38a0b178-8b8b-4e80-a8ee-e17378490877",
   "metadata": {},
   "outputs": [
    {
     "data": {
      "text/plain": [
       "array([0, 1, 2, 1, 2, 1, 2, 1, 2])"
      ]
     },
     "execution_count": 113,
     "metadata": {},
     "output_type": "execute_result"
    }
   ],
   "source": [
    "y"
   ]
  },
  {
   "cell_type": "code",
   "execution_count": 115,
   "id": "73922a16-5801-4641-b269-b4785e2938e4",
   "metadata": {},
   "outputs": [],
   "source": [
    "from sklearn.model_selection import train_test_split"
   ]
  },
  {
   "cell_type": "code",
   "execution_count": 121,
   "id": "53fa6f5d-3242-4e2c-bfab-10a1ae8bc41a",
   "metadata": {},
   "outputs": [],
   "source": [
    "x_train,x_test,y_train,y_test=train_test_split(x,y,test_size=0.2, random_state=0)"
   ]
  },
  {
   "cell_type": "code",
   "execution_count": 123,
   "id": "2425fc15-d2ed-49be-bf47-ce76a3ebb188",
   "metadata": {},
   "outputs": [
    {
     "data": {
      "text/plain": [
       "array([[0., 0., 1.],\n",
       "       [0., 0., 1.],\n",
       "       [1., 0., 0.],\n",
       "       [0., 1., 0.],\n",
       "       [0., 1., 0.],\n",
       "       [0., 1., 0.],\n",
       "       [1., 0., 0.]])"
      ]
     },
     "execution_count": 123,
     "metadata": {},
     "output_type": "execute_result"
    }
   ],
   "source": [
    "x_train"
   ]
  },
  {
   "cell_type": "code",
   "execution_count": 125,
   "id": "3d42de7a-7401-4c00-8fa7-03a376297276",
   "metadata": {},
   "outputs": [
    {
     "data": {
      "text/plain": [
       "array([[0., 0., 1.],\n",
       "       [1., 0., 0.]])"
      ]
     },
     "execution_count": 125,
     "metadata": {},
     "output_type": "execute_result"
    }
   ],
   "source": [
    "x_test"
   ]
  },
  {
   "cell_type": "code",
   "execution_count": 127,
   "id": "bbd6792c-f56d-4e64-a9b5-5fa1caaa4661",
   "metadata": {},
   "outputs": [
    {
     "data": {
      "text/plain": [
       "array([1, 2])"
      ]
     },
     "execution_count": 127,
     "metadata": {},
     "output_type": "execute_result"
    }
   ],
   "source": [
    "y_test"
   ]
  },
  {
   "cell_type": "code",
   "execution_count": 129,
   "id": "6f345212-035e-4526-9e3e-7ad647615c16",
   "metadata": {},
   "outputs": [
    {
     "data": {
      "text/plain": [
       "array([1, 2, 2, 2, 1, 0, 1])"
      ]
     },
     "execution_count": 129,
     "metadata": {},
     "output_type": "execute_result"
    }
   ],
   "source": [
    "y_train"
   ]
  },
  {
   "cell_type": "code",
   "execution_count": 134,
   "id": "54928324-163d-4b24-883e-da41a1582476",
   "metadata": {},
   "outputs": [],
   "source": [
    "from sklearn.preprocessing import StandardScaler"
   ]
  },
  {
   "cell_type": "code",
   "execution_count": 136,
   "id": "d3231051-44ab-4b8c-befe-571fe2811f21",
   "metadata": {},
   "outputs": [],
   "source": [
    "sc_x=StandardScaler()"
   ]
  },
  {
   "cell_type": "code",
   "execution_count": 138,
   "id": "d0ad91b2-dc64-400d-86b8-efdec75e9abe",
   "metadata": {},
   "outputs": [],
   "source": [
    "x_train=sc_x.fit_transform(x_train)"
   ]
  },
  {
   "cell_type": "code",
   "execution_count": 140,
   "id": "3e6be602-6c2b-4026-a400-4c79523a18e3",
   "metadata": {},
   "outputs": [],
   "source": [
    "x_test=sc_x.transform(x_test)"
   ]
  },
  {
   "cell_type": "code",
   "execution_count": 142,
   "id": "cd5dd9e7-e040-42ee-9974-9abc470a2fbd",
   "metadata": {},
   "outputs": [
    {
     "data": {
      "text/plain": [
       "array([[-0.63245553, -0.8660254 ,  1.58113883],\n",
       "       [-0.63245553, -0.8660254 ,  1.58113883],\n",
       "       [ 1.58113883, -0.8660254 , -0.63245553],\n",
       "       [-0.63245553,  1.15470054, -0.63245553],\n",
       "       [-0.63245553,  1.15470054, -0.63245553],\n",
       "       [-0.63245553,  1.15470054, -0.63245553],\n",
       "       [ 1.58113883, -0.8660254 , -0.63245553]])"
      ]
     },
     "execution_count": 142,
     "metadata": {},
     "output_type": "execute_result"
    }
   ],
   "source": [
    "x_train"
   ]
  },
  {
   "cell_type": "code",
   "execution_count": 144,
   "id": "82c350ad-6c6f-48b8-b51a-f4f65ff71ab9",
   "metadata": {},
   "outputs": [
    {
     "data": {
      "text/plain": [
       "array([[-0.63245553, -0.8660254 ,  1.58113883],\n",
       "       [ 1.58113883, -0.8660254 , -0.63245553]])"
      ]
     },
     "execution_count": 144,
     "metadata": {},
     "output_type": "execute_result"
    }
   ],
   "source": [
    "x_test"
   ]
  },
  {
   "cell_type": "code",
   "execution_count": null,
   "id": "fb69afab-82a1-4598-b2d5-3d96f33b2cd6",
   "metadata": {},
   "outputs": [],
   "source": []
  }
 ],
 "metadata": {
  "kernelspec": {
   "display_name": "Python [conda env:base] *",
   "language": "python",
   "name": "conda-base-py"
  },
  "language_info": {
   "codemirror_mode": {
    "name": "ipython",
    "version": 3
   },
   "file_extension": ".py",
   "mimetype": "text/x-python",
   "name": "python",
   "nbconvert_exporter": "python",
   "pygments_lexer": "ipython3",
   "version": "3.12.7"
  }
 },
 "nbformat": 4,
 "nbformat_minor": 5
}
